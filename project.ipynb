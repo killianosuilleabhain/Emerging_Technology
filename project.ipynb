{
 "cells": [
  {
   "cell_type": "markdown",
   "metadata": {},
   "source": [
    "## Deutsch's Algorithm\n",
    "#### By Killian O'Suilleabhain\n",
    "### Introduction\n",
    "David Deutsch initially introduced the algorithm known as Deutsch's Algorithm in 1985. In 1992, he collaborated with Richard Jozsa to enhance and expand upon the algorithm, resulting in the renamed Deutsch-Jozsa Algorithm [1](https://en.wikipedia.org/wiki/David_Deutsch). The original Deutsch's Algorithm is now commonly referred to as Deutsch's Problem [2](https://sciencedirect.com/science/article/pii/S0079672798000044). *(In this project I will be reffering to the origninal algorithm as Deutsch's Problem.)* Deutsch's Problem was the first algorithm to demonstrate the quantum advantage and in many circles is believed to have started the world of Quantum Computing.  \n",
    "\n",
    "To understand Deutsch's Algorithm in more detail we must also understand what is a quantum computer and how it differentriates between a classical computer aswell as the role it plays in the algorithms use. We will use Quikit to demonstrate the algorithm aswell as give a more robust understaning of how the algorithm works before coming to our conclusion on the algorithm.\n"
   ]
  },
  {
   "cell_type": "markdown",
   "metadata": {},
   "source": [
    "### What is Quantum Computing\n",
    "Quantum computing is a field of computing that takes advantage of the principles of quantum mechanics to perform certain types of computations much more efficiently than classical computers. Classical computers use bits as the basic unit of information, which can be in one of two states: 0 or 1. Quantum computers, on the other hand, use quantum bits or qubits, which can exist in multiple states simultaneously thanks to the principle of superposition. [3](https://www.investopedia.com/terms/q/quantum-computing.asp#:~:text=Quantum%20computing%20uses%20phenomena%20in,grows%20exponentially%20with%20more%20qubits).\n",
    "\n",
    "##### Qubits vs Bits\n",
    "At any given time a bit can only exist in one of two states which is either 0 or 1 which may also be known as true or false. These binary values are stored in memory, through the use of capacitors that hold electrical charges. The charge determines the state of each bit, which, in turn, determines the bit's value [4](https://www.techtarget.com/whatis/definition/bit-binary-digit). Bits are generally used in classicical computing where they use bits to perform computations based on classical logic gates.\n",
    "\n",
    "A Qubit also known as a Quantum Bit is a two-level quantum system where the two basis qubit states are usually written as ∣0⟩ and ∣1⟩, a qubit can be in a state ∣0⟩,∣1⟩ and unlinke a classical bit in a linear state also known as a superposition [5](https://www.quantum-inspire.com/kbase/what-is-a-qubit/). Qubits are used in quantum computing because they harness the principles of quantum mechanics to perform certain types of computations more efficiently than classical bits in classical computing, it's important to note that building and maintaining stable qubits present substantial challenges due to factors like quantum decoherence and error correction.\n",
    "\n",
    "##### Superposition\n",
    "A superposition is when a qubit exists in multiple states at the same time, Mathematically, if ∣ψ⟩ represents the state of a qubit, it can be in a superposition like this: ∣ψ⟩= α∣0⟩ + β∣1⟩. The thought experiment of Schrödinger's cat is a simple way to explain superposition where in this thought experiment the cat is in a box either with a 50% chance of being alive or dead where we wont know the awnser until we open the box but in the meantime we can assume that the cat is both alive and dead simultaniously putting the cat in a superposition. \n",
    "\n",
    "A more real experiment is to explain superposition is the double slit experiment which is an experiment that exhibits the the wave like and partical like features of particals. In this experiment scientist shoot electrons through one of two holes with an even chance that the electrons will go through either the top or bottom slit and through this will track which gap the electrons went through the photons will then hit a back screen which maps the final posistion of the electrons. The result of the experiment isnt what you would expect as you would expect it to hit the screen roughly at the same two points but in this experiment it creates a wave like pattern which demonstarates the dual natures of particals similarly to a superposisition in quantum computing [6](https://en.wikipedia.org/wiki/Double-slit_experiment).\n",
    "\n",
    "![double slit experiment expected](https://cdn.ttgtmedia.com/rms/onlineimages/expected_results_of_double_slit_experiment-f_mobile.png)\n",
    "![double slit experiment reality](https://cdn.ttgtmedia.com/rms/onlineimages/actual_results_of_double_slit_experiment-f_mobile.png)\n",
    "\n",
    "Superposition allows quantum computers to process information in parallel by exploring many possible solutions to a problem simultaneously. This capability is one of the factors that can lead to exponential speedup for certain types of computations when compared to classical computers."
   ]
  },
  {
   "cell_type": "markdown",
   "metadata": {},
   "source": [
    "### Quantum Gates & Circuits\n",
    "##### Quantum Gates \n",
    "In quantum computing, a quantum gate is a fundamental building block of quantum circuits. These gates are analogous to classical logic gates used in classical computing but operate on qubits, which can exist in multiple states simultaneously due to the principles of superposition and entanglement [7](https://en.wikipedia.org/wiki/Quantum_logic_gate). Quantum gates manipulate the state of qubits by performing unitary transformations. These transformations are reversible and enable the creation of quantum circuits. Other aspects of their uses include Quantum Information Processing, Quantum Algorithms and creating Superposition and Entanglement.\n",
    "\n",
    "An example of a quantum gates which I will cover is the Hadamard Gate\n",
    "\n",
    "The Hadamard gate, denoted as \\(H\\), is represented by the symbol:  \n",
    "![Hadamard gate Symbol](https://www.researchgate.net/publication/367483537/figure/fig1/AS:11431281169060114@1687227419531/the-symbol-of-the-Hadamard-gate-H-in-a-quantum-circuit.png/)  \n",
    "is represented by the Matrix:  \n",
    "![Hadamard gate Symbol](https://i0.wp.com/quantumzeitgeist.com/wp-content/uploads/Quantum_Logic_Gates.png-2443%C3%973003.png?resize=265%2C146&ssl=1)"
   ]
  },
  {
   "cell_type": "markdown",
   "metadata": {},
   "source": [
    "##### Quantum Circuits\n",
    "Quantum Circuits are a mathematical representation of operations formed in quantum algorithms which is a collection of quantum gates connected by quantum wires. These circuits solve coherent quantum operations on quantum data, such as qubits [8](https://docs.quantum.ibm.com/api/qiskit/circuit).\n",
    "\n",
    "The below code using qiskit creates a quantum circuit with two qubits which applies the Hadamard gates to both qubits, and then applies a CNOT gate to create an entangled state. The state vector is then simulated to show the final state of the system, which should be an entangled Bell state."
   ]
  },
  {
   "cell_type": "code",
   "execution_count": 23,
   "metadata": {},
   "outputs": [
    {
     "data": {
      "image/png": "[encoded data removed]",
      "text/plain": [
       "<Figure size 287.294x200.667 with 1 Axes>"
      ]
     },
     "execution_count": 23,
     "metadata": {},
     "output_type": "execute_result"
    }
   ],
   "source": [
    "from qiskit import QuantumCircuit, transpile, assemble, BasicAer\n",
    "\n",
    "# Create a quantum circuit with two qubits\n",
    "qc = QuantumCircuit(2)\n",
    "\n",
    "# Apply Hadamard gate to the first qubit\n",
    "qc.h(0)\n",
    "\n",
    "# Apply Hadamard gate to the second qubit\n",
    "qc.h(1)\n",
    "\n",
    "# Apply CNOT gate to create entanglement\n",
    "qc.cx(0, 1)\n",
    "\n",
    "# Visualize the circuit\n",
    "#print(qc)\n",
    "\n",
    "# Simulate the circuit using the unitary simulator\n",
    "simulator = BasicAer.get_backend('unitary_simulator')\n",
    "compiled_circuit = transpile(qc, simulator)\n",
    "result = simulator.run(assemble(compiled_circuit)).result()\n",
    "\n",
    "# Get the final unitary matrix\n",
    "unitary_matrix = result.get_unitary()\n",
    "\n",
    "#print(\"Final Unitary Matrix:\")\n",
    "#print(unitary_matrix)\n",
    "\n",
    "# Draw the circuit\n",
    "qc.draw('mpl')\n",
    "\n"
   ]
  },
  {
   "cell_type": "markdown",
   "metadata": {},
   "source": [
    "##### Entanglement\n",
    "Entanglement is a phenomenon in quantum science where two or more quantum paticals or in this topic two or more qubits become connected in a way which both there states are linked to one another. The link between both parties is so strong that they could be miles apart but will always be able to communicate with one another [9](https://shorturl.at/rNOR7). \n",
    "\n",
    "One example of a entangled state is the Bell State which is shown in the circuit above where two qubits are in a superposition of being both in the state |0⟩ or both in the state |1⟩. When the state of one qubit is measured, the state of the other qubit is instantly known, regardless of the distance between the two \n",
    "\n",
    "Entanglement is crucial in quantum information processing and quantum computing. Quantum algorithms and protocols often leverage entanglement to perform tasks that classical computing finds challenging or impossible."
   ]
  },
  {
   "cell_type": "markdown",
   "metadata": {},
   "source": [
    "## References\n",
    "[1] https://en.wikipedia.org/wiki/David_Deutsch  \n",
    "[2] https://sciencedirect.com/science/article/pii/S0079672798000044  \n",
    "[3] https://www.investopedia.com/terms/q/quantum-computing.asp#:~:text=Quantum%20computing%20uses%20phenomena%20in,grows%20exponentially%20with%20more%20qubits  \n",
    "[4] https://www.techtarget.com/whatis/definition/bit-binary-digit  \n",
    "[5] https://www.quantum-inspire.com/kbase/what-is-a-qubit/   \n",
    "[6] https://en.wikipedia.org/wiki/Double-slit_experiment  \n",
    "[7] https://en.wikipedia.org/wiki/Quantum_logic_gate  \n",
    "[8] https://docs.quantum.ibm.com/api/qiskit/circuit  \n",
    "[9] https://shorturl.at/rNOR7   \n",
    "[10]  \n",
    "[11]    \n",
    "## Unrefernced References\n",
    "https://youtu.be/m6pJNW_jpw0?si=wEZOHg4JdQ3mMlpW\n",
    "\n",
    "https://youtu.be/JhHMJCUmq28?si=bHlrt3l-rYzkB9E9\n",
    "\n",
    "https://youtu.be/-UrdExQW0cs?si=kwKBOAlkQbBhV3R2\n",
    "\n",
    "https://youtu.be/7MdEHsRZxvo?si=JBITUPn1KTU13SL6\n",
    "\n",
    "https://youtu.be/JYNRvYhgUeY?si=8QaKrj9OXtsz8lke -Superposition\n",
    "\n",
    "https://www.youtube.com/watch?v=UjaAxUO6-Uw - Schrödinger's cat: A thought experiment in quantum mechanics - Chad Orzel Ted Talk\n",
    "\n",
    "https://youtu.be/rqmIVeheTVU?si=ff-oiwVWk62h8h18 -Entanglement"
   ]
  }
 ],
 "metadata": {
  "kernelspec": {
   "display_name": "base",
   "language": "python",
   "name": "python3"
  },
  "language_info": {
   "codemirror_mode": {
    "name": "ipython",
    "version": 3
   },
   "file_extension": ".py",
   "mimetype": "text/x-python",
   "name": "python",
   "nbconvert_exporter": "python",
   "pygments_lexer": "ipython3",
   "version": "3.11.4"
  }
 },
 "nbformat": 4,
 "nbformat_minor": 2
}
