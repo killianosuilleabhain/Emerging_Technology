{
 "cells": [
  {
   "cell_type": "markdown",
   "metadata": {},
   "source": [
    "# Tasks: Emerging Technologies\n",
    "## Task 1\n",
    "*** \n",
    "Q.\n",
    "\n",
    "The Collatz conjecture is a famous unsolved problem in mathematics. The problem is to prove that if you start with any positive\n",
    "integer x and repeatedly apply the function f(x) below, you always get stuck in the repeating sequence 1, 4, 2, 1, 4, 2, . . .\n",
    "$$\n",
    "f(x) = \\frac{x ÷ 2}{3x + 1} \n",
    "$$\n",
    "if  x  is even:  x ÷ 2   \n",
    "otherwise: 3x + 1\n",
    "\n",
    "For example, starting with the value 10, which is an even number, we divide it by 2 to get 5. Then 5 is an odd number so, we multiply by 3 and add 1 to get 16. Then we repeatedly divide by 2 to get 8, 4, 2, 1. Once we are at 1, we go back to 4 and get stuck in the repeating sequence 4, 2, 1 as we suspected.\n",
    "Your task is to verify, using Python, that the conjecture is true for the first 10,000 positive integers.  \n",
    "\n",
    "\n",
    "A."
   ]
  },
  {
   "cell_type": "markdown",
   "metadata": {},
   "source": [
    "The Collatz conjector named after Lothar Collatz who was a German mathematician who first proposed the idea in 1937. The Collatz Conjector still remians as an unsolved problem as no general proof demonstrates that it always holds true for all positive integers.\n",
    "The code below proves that the collatz conjector is true for the first 10000 positive integers."
   ]
  },
  {
   "cell_type": "code",
   "execution_count": null,
   "metadata": {},
   "outputs": [
    {
     "name": "stdout",
     "output_type": "stream",
     "text": [
      "Collatz conjecture is true for the first 10000 positive integers.\n"
     ]
    }
   ],
   "source": [
    "def collatz_sequence(n):\n",
    "    sequence = [n]\n",
    "    while n != 1:\n",
    "        if n % 2 == 0:\n",
    "            n = n // 2\n",
    "        else:\n",
    "            n = 3 * n + 1\n",
    "        sequence.append(n)\n",
    "    return sequence\n",
    "\n",
    "def verify_collatz_conjecture(limit):\n",
    "    for i in range(1, limit + 1):\n",
    "        sequence = collatz_sequence(i)\n",
    "        if sequence[-1] != 1:\n",
    "            print(f\"Collatz conjecture is not true for {i}.\")\n",
    "            print(\"Sequence:\", sequence)\n",
    "            break\n",
    "    else:\n",
    "        print(\"Collatz conjecture is true for the first\", limit, \"positive integers.\")\n",
    "\n",
    "# Verify for the first 10,000 positive integers\n",
    "verify_collatz_conjecture(10000)"
   ]
  },
  {
   "cell_type": "markdown",
   "metadata": {},
   "source": [
    "## Task 2\n",
    "***\n",
    "Q.\n",
    "\n",
    "Square roots are difficult to calculate. In Python, you typically use the power operator (a double asterisk) or a package such as math. In this task, approximate the square root of a floating point number x without using the power operator or a package. Rather, you should use the Newton’s method. Start with an initial guess for the square root called z0. You then repeatedly improve it using the following formula, until the difference between some previous guess zi and the next zi+1 is less than some threshold, say 0.01 \n",
    "$$\n",
    "zi + 1 = zi - \\frac{zi × zi - x}{2zi} \n",
    "$$\n",
    "\n",
    "A."
   ]
  },
  {
   "cell_type": "code",
   "execution_count": null,
   "metadata": {},
   "outputs": [
    {
     "name": "stdout",
     "output_type": "stream",
     "text": [
      "2.1213206700707965\n",
      "3.0983866800483297\n",
      "5.31036721921083\n"
     ]
    }
   ],
   "source": [
    "def sqrt(x):\n",
    "    z_zero = 1.0 \n",
    "    threshold = 0.01 \n",
    "    z = z_zero \n",
    "    \n",
    "    while True: \n",
    "        z_plus_one = z - (z * z - x) / (2 * z)\n",
    "        if abs(z - z_plus_one) < threshold: \n",
    "            return z_plus_one\n",
    "        z = z_plus_one \n",
    "\n",
    "#Print out the results of the function 3 different times\n",
    "print(sqrt(4.5))  #This should give a result close to 2.12\n",
    "print(sqrt(9.6))  #A result close to 3.09\n",
    "print(sqrt(28.2))  #A result close to 5.31"
   ]
  },
  {
   "cell_type": "markdown",
   "metadata": {},
   "source": [
    "## Task 3\n",
    "***\n",
    "Q. \n",
    "\n",
    "Consider all possible functions taking four bits as input and outputting a single bit. How many such possible functions are there? \n",
    "$$ $$\n",
    "Write Python code to select one such function at random out of all the possibilities. Suppose the only way you can figure out what the function is, is by calling it with different inputs and checking the outputs. How many times do you need to call the function to be certain which function it is?\n",
    "\n",
    "A."
   ]
  },
  {
   "cell_type": "markdown",
   "metadata": {},
   "source": [
    "There is are a total of 65536 possible functions\n",
    "$$ $$\n",
    "This is possible due to the fact that a bit can either be a 1 or a 0 (true or false) in which there are only them two options aswell as it being a 50/50 chance. In this question there are 4 boolean inputs that can make either bit having the calculation of **$2^4$** which equals 16 input mappings, As 16 input mappings require the output of 1 or a 0 (true or false) the final calculation we get is **$2^{16}$** leaving us with our final total mentioned above."
   ]
  },
  {
   "cell_type": "code",
   "execution_count": 12,
   "metadata": {},
   "outputs": [
    {
     "name": "stdout",
     "output_type": "stream",
     "text": [
      "65536\n"
     ]
    }
   ],
   "source": [
    "##Proof that 2 to the power of 16 is 65536\n",
    "result = 2 ** 16\n",
    "print(result)"
   ]
  },
  {
   "cell_type": "code",
   "execution_count": 13,
   "metadata": {},
   "outputs": [
    {
     "name": "stdout",
     "output_type": "stream",
     "text": [
      "Selected function: [0, 0, 1, 0, 1, 0, 1, 1, 1, 1, 1, 0, 1, 0, 1, 1]\n"
     ]
    }
   ],
   "source": [
    "import random\n",
    "\n",
    "##Selects Random function\n",
    "def random_binary_function():\n",
    "    return [random.choice([0, 1]) for _ in range(16)]\n",
    "\n",
    "selected_function = random_binary_function()\n",
    "print(\"Selected function:\", selected_function)"
   ]
  },
  {
   "cell_type": "markdown",
   "metadata": {},
   "source": [
    "## Task 4\n",
    "***\n",
    "Q.\n",
    "\n",
    "Write a function that performs matrix multiplication on two rectangular lists containing floats in Python.\n",
    "\n",
    "A."
   ]
  },
  {
   "cell_type": "markdown",
   "metadata": {},
   "source": [
    "In the below Python function which performs matrix multiplication on two rectangular lists which contains float, the function checks if the matrices' dimensions are suitable for multiplication and then performs the multiplication using three nested loops"
   ]
  },
  {
   "cell_type": "code",
   "execution_count": 2,
   "metadata": {},
   "outputs": [
    {
     "name": "stdout",
     "output_type": "stream",
     "text": [
      "[[44.0, 56.0], [98.0, 128.0]]\n"
     ]
    }
   ],
   "source": [
    "def matrix_multiply(matrix1, matrix2):\n",
    "    #Get the number of rows and columns for each matrix\n",
    "    rows1, cols1 = len(matrix1), len(matrix1[0])\n",
    "    rows2, cols2 = len(matrix2), len(matrix2[0])\n",
    "\n",
    "    #Check if matrix multiplication is possible\n",
    "    if cols1 != rows2:\n",
    "        raise ValueError(\"Number of columns in the first matrix must be equal to the number of rows in the second matrix.\")\n",
    "\n",
    "    #Initialize the result matrix with zeros\n",
    "    result = [[0.0 for _ in range(cols2)] for _ in range(rows1)]\n",
    "\n",
    "    #Matrix multiplication\n",
    "    for i in range(rows1):\n",
    "        for j in range(cols2):\n",
    "            for k in range(cols1):\n",
    "                result[i][j] += matrix1[i][k] * matrix2[k][j]\n",
    "\n",
    "    return result\n",
    "\n",
    "#Values of matrix A\n",
    "matrix_A = [[2.0, 4.0, 6.0],\n",
    "            [8.0, 10.0, 12.0]]\n",
    "\n",
    "#Values of matrix B\n",
    "matrix_B = [[1.0, 2.0],\n",
    "            [3.0, 4.0],\n",
    "            [5.0, 6.0]]\n",
    "\n",
    "#Perform matrix multiplication with the updated matrices\n",
    "result_matrix = matrix_multiply(matrix_A, matrix_B)\n",
    "print(result_matrix)\n"
   ]
  },
  {
   "cell_type": "markdown",
   "metadata": {},
   "source": [
    "## References\n",
    "\n",
    "#### Task 1 \n",
    "https://www.quantamagazine.org/mathematician-proves-huge-result-on-dangerous-problem-20191211/  \n",
    "https://www.quantamagazine.org/why-mathematicians-still-cant-solve-the-collatz-conjecture-20200922/  \n",
    "https://mathworld.wolfram.com/CollatzProblem.html  \n",
    "\n",
    "#### Task 2\n",
    "https://web.ma.utexas.edu/users/m408n/CurrentWeb/LM4-8-2.php#:~:text=Newton's%20method%20is%20a%20technique,a%20new%20(and%20improved!)  \n",
    "https://en.wikipedia.org/wiki/Newton%27s_method  \n",
    "https://www.youtube.com/watch?v=-5e2cULI3H8  \n",
    "\n",
    "#### Task 3 \n",
    "https://testbook.com/question-answer/the-number-of-boolean-functions-possible-with-n-bi--5fc8a1fa250ca616ebfdc977  \n",
    "https://viterbi-web.usc.edu/~tbrun/Course/lecture09.pdf  \n",
    "\n",
    "#### Task 4\n",
    "https://codepal.ai/code-generator/query/WitVJMcg/python-matrix-multiplication  \n",
    "https://copyprogramming.com/howto/python-program-to-multiply-two-matrices  \n"
   ]
  }
 ],
 "metadata": {
  "kernelspec": {
   "display_name": "Python 3",
   "language": "python",
   "name": "python3"
  },
  "language_info": {
   "codemirror_mode": {
    "name": "ipython",
    "version": 3
   },
   "file_extension": ".py",
   "mimetype": "text/x-python",
   "name": "python",
   "nbconvert_exporter": "python",
   "pygments_lexer": "ipython3",
   "version": "3.11.4"
  }
 },
 "nbformat": 4,
 "nbformat_minor": 2
}
