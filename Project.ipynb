{
 "cells": [
  {
   "cell_type": "markdown",
   "metadata": {},
   "source": [
    "## Deutsch's Algorithm\n",
    "### Introduction\n",
    "David Deutsch initially introduced the algorithm known as Deutsch's Algorithm in 1985. In 1992, he collaborated with Richard Jozsa to enhance and expand upon the algorithm, resulting in the renamed Deutsch-Jozsa Algorithm [1](https://en.wikipedia.org/wiki/David_Deutsch). The original Deutsch's Algorithm is now commonly referred to as Deutsch's Problem [2](https://sciencedirect.com/science/article/pii/S0079672798000044). *(In this project I will be reffering to the origninal algorithm as Deutsch's Problem.)* Deutsch's Problem was the first algorithm to demonstrate the quantum advantage and in many circles is believed to have started the world of Quantum Computing.  \n",
    "\n",
    "To understand Deutsch's Algorithm in more detail we must also understand what is a quantum computer and how it differentriates between a classical computer aswell as the role it plays in the algorithms use. We will use Quikit to demonstrate the algorithm aswell as give a more robust understaning of how the algorithm works before coming to our conclusion on the algorithm.\n"
   ]
  },
  {
   "cell_type": "markdown",
   "metadata": {},
   "source": [
    "### What is Quantum Computing"
   ]
  },
  {
   "cell_type": "markdown",
   "metadata": {},
   "source": [
    "## References\n",
    "[1] https://en.wikipedia.org/wiki/David_Deutsch\n",
    "$$ $$\n",
    "[2] https://sciencedirect.com/science/article/pii/S0079672798000044"
   ]
  }
 ],
 "metadata": {
  "language_info": {
   "name": "python"
  }
 },
 "nbformat": 4,
 "nbformat_minor": 2
}
