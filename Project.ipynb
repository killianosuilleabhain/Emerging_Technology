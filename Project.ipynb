{
 "cells": [
  {
   "cell_type": "markdown",
   "metadata": {},
   "source": [
    "## Deutsch's Algorithm\n",
    "### Introduction\n",
    "David Deutsch initially introduced the algorithm known as Deutsch's Algorithm in 1985. In 1992, he collaborated with Richard Jozsa to enhance and expand upon the algorithm, resulting in the renamed Deutsch-Jozsa Algorithm [1](https://en.wikipedia.org/wiki/David_Deutsch). The original Deutsch's Algorithm is now commonly referred to as Deutsch's Problem [2](https://sciencedirect.com/science/article/pii/S0079672798000044). *(In this project I will be reffering to the origninal algorithm as Deutsch's Problem.)* Deutsch's Problem was the first algorithm to demonstrate the quantum advantage and in many circles is believed to have started the world of Quantum Computing.  \n",
    "\n",
    "To understand Deutsch's Algorithm in more detail we must also understand what is a quantum computer and how it differentriates between a classical computer aswell as the role it plays in the algorithms use. We will use Quikit to demonstrate the algorithm aswell as give a more robust understaning of how the algorithm works before coming to our conclusion on the algorithm.\n"
   ]
  },
  {
   "cell_type": "markdown",
   "metadata": {},
   "source": [
    "### What is Quantum Computing\n",
    "Quantum computing is a field of computing that takes advantage of the principles of quantum mechanics to perform certain types of computations much more efficiently than classical computers. Classical computers use bits as the basic unit of information, which can be in one of two states: 0 or 1. Quantum computers, on the other hand, use quantum bits or qubits, which can exist in multiple states simultaneously thanks to the principle of superposition. [3](https://www.investopedia.com/terms/q/quantum-computing.asp#:~:text=Quantum%20computing%20uses%20phenomena%20in,grows%20exponentially%20with%20more%20qubits).\n",
    "\n",
    "##### Qubits vs Bits\n",
    "At any given time a bit can only exist in one of two states which is either 0 or 1 which may also be known as true or false. These binary values are stored in memory, through the use of capacitors that hold electrical charges. The charge determines the state of each bit, which, in turn, determines the bit's value [4](https://www.techtarget.com/whatis/definition/bit-binary-digit). Bits are generally used in classicical computing where they use bits to perform computations based on classical logic gates.\n",
    "\n",
    "A Qubit also known as a Quantum Bit is a two-level quantum system where the two basis qubit states are usually written as ∣0⟩ and ∣1⟩, a qubit can be in a state ∣0⟩,∣1⟩ and unlinke a classical bit in a linear state also known as a superposition [5](https://www.quantum-inspire.com/kbase/what-is-a-qubit/). Qubits are used in quantum computing because they harness the principles of quantum mechanics to perform certain types of computations more efficiently than classical bits in classical computing, it's important to note that building and maintaining stable qubits present substantial challenges due to factors like quantum decoherence and error correction.\n",
    "\n",
    "##### Superposition\n",
    "A superposition is when a qubit exists in multiple states at the same time, Mathematically, if ∣ψ⟩ represents the state of a qubit, it can be in a superposition like this: ∣ψ⟩= α∣0⟩ + β∣1⟩. The thought experiment of Schrödinger's cat is a simple way to explain superposition where in this thought experiment the cat is in a box either with a 50% chance of being alive or dead where we wont know the awnser until we open the box but in the meantime we can assume that the cat is both alive and dead simultaniously putting the cat in a superposition. \n",
    "\n",
    "A more real experiment is to explain superposition is the double slit experiment which is an experiment that exhibits the the wave like and partical like features of particals. In this experiment scientist shoot electrons through one of two holes with an even chance that the electrons will go through either the top or bottom slit and through this will track which gap the electrons went through the photons will then hit a back screen which maps the final posistion of the electrons. The result of the experiment isnt what you would expect as you would expect it to hit the screen roughly at the same two points but in this experiment it creates a wave like pattern which demonstarates the dual natures of particals similarly to a superposisition in quantum computing [6](https://en.wikipedia.org/wiki/Double-slit_experiment).\n",
    "\n",
    "![double slit experiment expected](https://cdn.ttgtmedia.com/rms/onlineimages/expected_results_of_double_slit_experiment-f_mobile.png)\n",
    "![double slit experiment reality](https://cdn.ttgtmedia.com/rms/onlineimages/actual_results_of_double_slit_experiment-f_mobile.png)\n",
    "\n",
    "Superposition allows quantum computers to process information in parallel by exploring many possible solutions to a problem simultaneously. This capability is one of the factors that can lead to exponential speedup for certain types of computations when compared to classical computers."
   ]
  },
  {
   "cell_type": "markdown",
   "metadata": {},
   "source": [
    "## References\n",
    "[1] https://en.wikipedia.org/wiki/David_Deutsch\n",
    "$$ $$\n",
    "[2] https://sciencedirect.com/science/article/pii/S0079672798000044\n",
    "$$ $$\n",
    "[3] https://www.investopedia.com/terms/q/quantum-computing.asp#:~:text=Quantum%20computing%20uses%20phenomena%20in,grows%20exponentially%20with%20more%20qubits\n",
    "$$ $$\n",
    "[4] https://www.techtarget.com/whatis/definition/bit-binary-digit\n",
    "$$ $$\n",
    "[5] https://www.quantum-inspire.com/kbase/what-is-a-qubit/\n",
    "$$ $$\n",
    "[6] https://en.wikipedia.org/wiki/Double-slit_experiment\n",
    "$$ $$\n",
    "[7]\n",
    "$$ $$\n",
    "[8]\n",
    "## Unrefernced References\n",
    "https://youtu.be/m6pJNW_jpw0?si=wEZOHg4JdQ3mMlpW\n",
    "\n",
    "https://youtu.be/JhHMJCUmq28?si=bHlrt3l-rYzkB9E9\n",
    "\n",
    "https://youtu.be/-UrdExQW0cs?si=kwKBOAlkQbBhV3R2\n",
    "\n",
    "https://youtu.be/7MdEHsRZxvo?si=JBITUPn1KTU13SL6\n",
    "\n",
    "https://youtu.be/JYNRvYhgUeY?si=8QaKrj9OXtsz8lke -Superposition\n",
    "\n",
    "https://www.youtube.com/watch?v=UjaAxUO6-Uw - Schrödinger's cat: A thought experiment in quantum mechanics - Chad Orzel Ted Talk"
   ]
  }
 ],
 "metadata": {
  "kernelspec": {
   "display_name": "base",
   "language": "python",
   "name": "python3"
  },
  "language_info": {
   "codemirror_mode": {
    "name": "ipython",
    "version": 3
   },
   "file_extension": ".py",
   "mimetype": "text/x-python",
   "name": "python",
   "nbconvert_exporter": "python",
   "pygments_lexer": "ipython3",
   "version": "3.11.4"
  }
 },
 "nbformat": 4,
 "nbformat_minor": 2
}
